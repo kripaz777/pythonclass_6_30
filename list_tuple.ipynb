{
 "cells": [
  {
   "cell_type": "code",
   "execution_count": 1,
   "id": "dfb8c88c-de52-4566-b13f-d3586834785a",
   "metadata": {},
   "outputs": [
    {
     "name": "stdout",
     "output_type": "stream",
     "text": [
      "<class 'list'>\n"
     ]
    }
   ],
   "source": [
    "# nested list\n",
    "a = [[1,2,3],\n",
    "     [4,5,6],\n",
    "     [7,8,9]]\n",
    "print(type(a))"
   ]
  },
  {
   "cell_type": "code",
   "execution_count": 6,
   "id": "1e68c5e3-73df-45f5-9f51-bff2d434316b",
   "metadata": {},
   "outputs": [
    {
     "name": "stdout",
     "output_type": "stream",
     "text": [
      "[1, 2, 3]\n"
     ]
    }
   ],
   "source": [
    "print(a[0])"
   ]
  },
  {
   "cell_type": "code",
   "execution_count": 9,
   "id": "f1dfc26a-f9ba-479b-ac62-3d1ca3655664",
   "metadata": {},
   "outputs": [
    {
     "name": "stdout",
     "output_type": "stream",
     "text": [
      "3\n"
     ]
    }
   ],
   "source": [
    "print(a[0][2])"
   ]
  },
  {
   "cell_type": "code",
   "execution_count": 10,
   "id": "63979676-c3ef-4972-996b-86a9b97b8f0f",
   "metadata": {},
   "outputs": [
    {
     "name": "stdout",
     "output_type": "stream",
     "text": [
      "[['Ram', 34, 'Kathmandu'], ['Shyam', 45, 'Bhaktapur'], ['Hari', 33, 'Lalitpur']]\n"
     ]
    }
   ],
   "source": [
    "a = [[\"Ram\",34,\"Kathmandu\"],\n",
    "    [\"Shyam\",45,\"Bhaktapur\"],\n",
    "    [\"Hari\",33,\"Lalitpur\"]]\n",
    "print(a)"
   ]
  },
  {
   "cell_type": "code",
   "execution_count": 12,
   "id": "bafc4b8e-5dd3-4202-a0d7-7b5df987986b",
   "metadata": {},
   "outputs": [
    {
     "name": "stdout",
     "output_type": "stream",
     "text": [
      "['Ram', 34, 'Kathmandu']\n",
      "['Shyam', 45, 'Bhaktapur']\n",
      "['Hari', 33, 'Lalitpur']\n"
     ]
    }
   ],
   "source": [
    "for i in a:\n",
    "    print(i)"
   ]
  },
  {
   "cell_type": "code",
   "execution_count": 13,
   "id": "c3bff691-98fe-49c5-a0b3-f8ebe14b3f99",
   "metadata": {},
   "outputs": [
    {
     "name": "stdin",
     "output_type": "stream",
     "text": [
      "Enter n =  2\n",
      "Enter name =  Ram\n",
      "Enter age =  78\n",
      "Enter add =  kathmandu\n",
      "Enter name =  Shyam\n",
      "Enter age =  45\n",
      "Enter add =  Bhaktapur\n"
     ]
    },
    {
     "name": "stdout",
     "output_type": "stream",
     "text": [
      "[['Ram', 78, 'kathmandu'], ['Shyam', 45, 'Bhaktapur']]\n"
     ]
    }
   ],
   "source": [
    "info = []\n",
    "n = int(input(\"Enter n = \"))\n",
    "for i in range(n):\n",
    "    name = input(\"Enter name = \")\n",
    "    age = int(input(\"Enter age = \"))\n",
    "    add = input(\"Enter add = \")\n",
    "    x = [name,age,add]\n",
    "    info.append(x)\n",
    "\n",
    "print(info)"
   ]
  },
  {
   "cell_type": "code",
   "execution_count": 16,
   "id": "5c14c92f-1d43-4db9-94df-801168075d1c",
   "metadata": {},
   "outputs": [
    {
     "data": {
      "text/plain": [
       "['Ram', 78, 'kathmandu']"
      ]
     },
     "execution_count": 16,
     "metadata": {},
     "output_type": "execute_result"
    }
   ],
   "source": [
    "info[0]"
   ]
  },
  {
   "cell_type": "code",
   "execution_count": 17,
   "id": "2964c4cc-e5c8-4870-b8bb-3bca81c1d23b",
   "metadata": {},
   "outputs": [
    {
     "name": "stdout",
     "output_type": "stream",
     "text": [
      "[['Ram', 78, 'kathmandu'], ['Shyam', 45, 'Bhaktapur'], ['Hari', 34, 'Kathmandu']]\n"
     ]
    }
   ],
   "source": [
    "b = [\"Hari\",34,\"Kathmandu\"]\n",
    "info.append(b)\n",
    "print(info)"
   ]
  },
  {
   "cell_type": "code",
   "execution_count": 20,
   "id": "a6959736-8ec9-459c-92b0-ab5e6f5e6b94",
   "metadata": {},
   "outputs": [
    {
     "data": {
      "text/plain": [
       "[['Rama', 34, 'Kathmandu'],\n",
       " ['Shyam', 45, 'Bhaktapur'],\n",
       " ['Hari', 34, 'Kathmandu']]"
      ]
     },
     "execution_count": 20,
     "metadata": {},
     "output_type": "execute_result"
    }
   ],
   "source": [
    "# Update\n",
    "info[0] = [\"Rama\",34,\"Kathmandu\"]\n",
    "info"
   ]
  },
  {
   "cell_type": "code",
   "execution_count": 23,
   "id": "947206bf-bd68-4b21-8a28-069c6420e9fa",
   "metadata": {},
   "outputs": [
    {
     "data": {
      "text/plain": [
       "[['Ram Prasad', 34, 'Kathmandu'],\n",
       " ['Shyam', 45, 'Bhaktapur'],\n",
       " ['Hari', 34, 'Kathmandu']]"
      ]
     },
     "execution_count": 23,
     "metadata": {},
     "output_type": "execute_result"
    }
   ],
   "source": [
    "info[0][0] = \"Ram Prasad\"\n",
    "info"
   ]
  },
  {
   "cell_type": "code",
   "execution_count": 33,
   "id": "b9094565-22f8-478f-bd25-857a4e154ddf",
   "metadata": {},
   "outputs": [],
   "source": [
    "# delete\n",
    "del info[0]"
   ]
  },
  {
   "cell_type": "code",
   "execution_count": 34,
   "id": "45d18381-7be0-4f82-b0d7-de6642a42ac7",
   "metadata": {},
   "outputs": [
    {
     "name": "stdout",
     "output_type": "stream",
     "text": [
      "[['Shyam', 45, 'Bhaktapur'], ['Hari', 34, 'Kathmandu']]\n"
     ]
    }
   ],
   "source": [
    "print(info)"
   ]
  },
  {
   "cell_type": "code",
   "execution_count": 32,
   "id": "c051975e-fcd1-4952-978c-4ffd43717b68",
   "metadata": {},
   "outputs": [],
   "source": [
    "info = [['Ram', 78, 'kathmandu'], ['Shyam', 45, 'Bhaktapur'], ['Hari', 34, 'Kathmandu']]\n"
   ]
  },
  {
   "cell_type": "code",
   "execution_count": 39,
   "id": "428167b7-e9b5-469f-8e1c-f9736f29b43d",
   "metadata": {},
   "outputs": [
    {
     "name": "stdin",
     "output_type": "stream",
     "text": [
      "Enter name =  Kathmandu\n"
     ]
    },
    {
     "name": "stdout",
     "output_type": "stream",
     "text": [
      "['Ram', 78, 'Kathmandu']\n",
      "['Hari', 34, 'Kathmandu']\n"
     ]
    }
   ],
   "source": [
    "# Search\n",
    "info = [['Ram', 78, 'Kathmandu'], ['Shyam', 45, 'Bhaktapur'], ['Hari', 34, 'Kathmandu']]\n",
    "search = input(\"Enter name = \")\n",
    "for i in info:\n",
    "    if search in i:\n",
    "        print(i)"
   ]
  },
  {
   "cell_type": "code",
   "execution_count": 42,
   "id": "ebe05ced-9bf9-403b-ad21-085be228a34e",
   "metadata": {},
   "outputs": [
    {
     "name": "stdout",
     "output_type": "stream",
     "text": [
      "['Ram', 78, 'Kathmandu']\n",
      "['Shyam', 45, 'Bhaktapur']\n"
     ]
    }
   ],
   "source": [
    "info = [['Ram', 78, 'Kathmandu'], ['Shyam', 45, 'Bhaktapur'], ['Hari', 34, 'Kathmandu']]\n",
    "# age = input(\"Enter age = \")\n",
    "for i in info:\n",
    "    if i[1] >=40:\n",
    "        print(i)"
   ]
  },
  {
   "cell_type": "code",
   "execution_count": 43,
   "id": "7722c578-108e-4446-b4d0-a692d4e57de1",
   "metadata": {},
   "outputs": [
    {
     "name": "stdin",
     "output_type": "stream",
     "text": [
      "Enter name =  shyam\n"
     ]
    },
    {
     "name": "stdout",
     "output_type": "stream",
     "text": [
      "['Shyam', 45, 'Bhaktapur']\n"
     ]
    }
   ],
   "source": [
    "info = [['Ram', 78, 'Kathmandu'], \n",
    "        ['Shyam', 45, 'Bhaktapur'], \n",
    "        ['Hari', 34, 'Kathmandu']]\n",
    "name = input(\"Enter name = \")\n",
    "for i in info:\n",
    "    if i[0].lower() == name.lower():\n",
    "        print(i)"
   ]
  },
  {
   "cell_type": "code",
   "execution_count": 46,
   "id": "7c7dde9b-29b6-4696-bab1-b3f31dec85c4",
   "metadata": {},
   "outputs": [
    {
     "data": {
      "text/plain": [
       "False"
      ]
     },
     "execution_count": 46,
     "metadata": {},
     "output_type": "execute_result"
    }
   ],
   "source": [
    "\"Kathmandu\".lower() == \"kathMandU\".lower()"
   ]
  },
  {
   "cell_type": "code",
   "execution_count": 47,
   "id": "ef15bc71-c7ff-4033-a012-900dc96026a0",
   "metadata": {},
   "outputs": [
    {
     "data": {
      "text/plain": [
       "'kathmandu'"
      ]
     },
     "execution_count": 47,
     "metadata": {},
     "output_type": "execute_result"
    }
   ],
   "source": [
    "\"Kathmandu\".lower()"
   ]
  },
  {
   "cell_type": "code",
   "execution_count": 48,
   "id": "0906f1c8-8a7c-4a89-832b-5862bcd1bc58",
   "metadata": {},
   "outputs": [
    {
     "data": {
      "text/plain": [
       "'kathmandu'"
      ]
     },
     "execution_count": 48,
     "metadata": {},
     "output_type": "execute_result"
    }
   ],
   "source": [
    " \"kathMandU\".lower()"
   ]
  },
  {
   "cell_type": "code",
   "execution_count": 49,
   "id": "5ee642b6-a153-40cb-996a-1db7f487100d",
   "metadata": {},
   "outputs": [],
   "source": [
    "# WAP to create a matrix\n",
    "# r - ?\n",
    "# c - ?\n",
    "# x - ?\n",
    "\n",
    "# nested for loop\n",
    "\n",
    "# for i in range():\n",
    "#     for j in range():"
   ]
  },
  {
   "cell_type": "code",
   "execution_count": 50,
   "id": "59013a6a-1ee3-42ef-9072-363f1797f9c0",
   "metadata": {},
   "outputs": [],
   "source": [
    "# Tuple\n",
    "# Indexing\n",
    "# Multiple and duplicate\n",
    "# Ordered\n",
    "# Imutable"
   ]
  },
  {
   "cell_type": "code",
   "execution_count": 52,
   "id": "57f747f9-3233-4fbb-bb8d-070625d0ad25",
   "metadata": {},
   "outputs": [
    {
     "name": "stdout",
     "output_type": "stream",
     "text": [
      "<class 'tuple'>\n"
     ]
    }
   ],
   "source": [
    "a = tuple()\n",
    "b = ()\n",
    "\n",
    "print(type(a))"
   ]
  },
  {
   "cell_type": "code",
   "execution_count": 56,
   "id": "1fb5bcca-9652-47d3-bef7-b473ee633ea0",
   "metadata": {},
   "outputs": [
    {
     "data": {
      "text/plain": [
       "tuple"
      ]
     },
     "execution_count": 56,
     "metadata": {},
     "output_type": "execute_result"
    }
   ],
   "source": [
    "a = (1,)\n",
    "type(a)"
   ]
  },
  {
   "cell_type": "code",
   "execution_count": 59,
   "id": "cc5b90dc-cd03-4e91-aa07-a000857fedd9",
   "metadata": {},
   "outputs": [
    {
     "name": "stdout",
     "output_type": "stream",
     "text": [
      "Other\n"
     ]
    }
   ],
   "source": [
    "a = (\"Male\",\"Female\",\"Other\")\n",
    "print(a[2])"
   ]
  },
  {
   "cell_type": "code",
   "execution_count": 60,
   "id": "3cdb50c4-8726-4fd6-b5d2-54b7a64d007b",
   "metadata": {},
   "outputs": [],
   "source": [
    "# No append() extend() insert()\n",
    "# No Update\n",
    "# No delete"
   ]
  },
  {
   "cell_type": "code",
   "execution_count": 61,
   "id": "efb06101-cf47-4e10-bd2c-0cb73da7499c",
   "metadata": {},
   "outputs": [],
   "source": [
    "# WAP to create tuple inside tuple"
   ]
  },
  {
   "cell_type": "code",
   "execution_count": 64,
   "id": "7507451e-cd94-49bc-beec-d78d45101344",
   "metadata": {},
   "outputs": [
    {
     "name": "stdin",
     "output_type": "stream",
     "text": [
      "Enter n =  2\n",
      "Enter x =  11\n",
      "Enter x =  22\n"
     ]
    },
    {
     "name": "stdout",
     "output_type": "stream",
     "text": [
      "(11, 22)\n"
     ]
    }
   ],
   "source": [
    "a = ()\n",
    "n = int(input(\"Enter n = \"))\n",
    "for i in range(n):\n",
    "    x = int(input(\"Enter x = \"))\n",
    "    a = a + (x,)\n",
    "\n",
    "print(a)"
   ]
  },
  {
   "cell_type": "code",
   "execution_count": 62,
   "id": "aaf80415-898e-4bf8-b3b2-f6f23498ddee",
   "metadata": {},
   "outputs": [
    {
     "data": {
      "text/plain": [
       "(1, 2, 3, 4, 5, 6)"
      ]
     },
     "execution_count": 62,
     "metadata": {},
     "output_type": "execute_result"
    }
   ],
   "source": [
    "a = (1,2,3)\n",
    "b = (4,5,6)\n",
    "c = a+b\n",
    "c"
   ]
  },
  {
   "cell_type": "code",
   "execution_count": 65,
   "id": "6f609288-b731-492b-8696-2472aeaf5054",
   "metadata": {},
   "outputs": [],
   "source": [
    "# max()\n",
    "# min()\n",
    "# sum()\n",
    "# sort()"
   ]
  },
  {
   "cell_type": "code",
   "execution_count": 66,
   "id": "1716dce5-cd2c-4711-878c-a318f012499c",
   "metadata": {},
   "outputs": [
    {
     "name": "stdout",
     "output_type": "stream",
     "text": [
      "78\n"
     ]
    }
   ],
   "source": [
    "a = (34,23,56,78,32,45)\n",
    "print(max(a))"
   ]
  },
  {
   "cell_type": "code",
   "execution_count": 67,
   "id": "c3b67550-ea2b-4bc7-a734-1ba4aeb74431",
   "metadata": {},
   "outputs": [
    {
     "name": "stdout",
     "output_type": "stream",
     "text": [
      "23\n"
     ]
    }
   ],
   "source": [
    "a = (34,23,56,78,32,45)\n",
    "print(min(a))"
   ]
  },
  {
   "cell_type": "code",
   "execution_count": 68,
   "id": "195a9c5f-c2de-47cf-8ab5-ab8ddb876aa7",
   "metadata": {},
   "outputs": [
    {
     "name": "stdout",
     "output_type": "stream",
     "text": [
      "268\n"
     ]
    }
   ],
   "source": [
    "a = (34,23,56,78,32,45)\n",
    "print(sum(a))"
   ]
  },
  {
   "cell_type": "code",
   "execution_count": 74,
   "id": "a0611b24-f31b-42e6-b449-def3136e1806",
   "metadata": {},
   "outputs": [
    {
     "name": "stdout",
     "output_type": "stream",
     "text": [
      "[23, 32, 34, 45, 56, 78]\n"
     ]
    }
   ],
   "source": [
    "a = [34,23,56,78,32,45]\n",
    "a.sort()\n",
    "print(a)"
   ]
  },
  {
   "cell_type": "code",
   "execution_count": 76,
   "id": "8efbc84a-c375-469b-9ded-66c6e3f90ae2",
   "metadata": {},
   "outputs": [
    {
     "name": "stdout",
     "output_type": "stream",
     "text": [
      "[78, 56, 45, 34, 32, 23]\n"
     ]
    }
   ],
   "source": [
    "a = [34,23,56,78,32,45]\n",
    "a.sort()\n",
    "a.reverse()\n",
    "print(a)"
   ]
  },
  {
   "cell_type": "code",
   "execution_count": 77,
   "id": "e245cd65-8471-4ccb-acec-769d17bf9e8f",
   "metadata": {},
   "outputs": [
    {
     "name": "stdout",
     "output_type": "stream",
     "text": [
      "['Apple', 'Banana', 'Xray', 'Zebra']\n"
     ]
    }
   ],
   "source": [
    "a = [\"Banana\",\"Apple\",\"Zebra\",\"Xray\"]\n",
    "a.sort()\n",
    "print(a)"
   ]
  },
  {
   "cell_type": "code",
   "execution_count": null,
   "id": "6b4a0238-80a6-4a9a-a57c-7c1c925ace81",
   "metadata": {},
   "outputs": [],
   "source": []
  }
 ],
 "metadata": {
  "kernelspec": {
   "display_name": "Python 3 (ipykernel)",
   "language": "python",
   "name": "python3"
  },
  "language_info": {
   "codemirror_mode": {
    "name": "ipython",
    "version": 3
   },
   "file_extension": ".py",
   "mimetype": "text/x-python",
   "name": "python",
   "nbconvert_exporter": "python",
   "pygments_lexer": "ipython3",
   "version": "3.11.7"
  }
 },
 "nbformat": 4,
 "nbformat_minor": 5
}
