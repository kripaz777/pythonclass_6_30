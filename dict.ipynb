{
 "cells": [
  {
   "cell_type": "code",
   "execution_count": 1,
   "id": "2fadd06f-d655-4ac0-84b6-fb66e68ba0e0",
   "metadata": {},
   "outputs": [],
   "source": [
    "# Dict\n",
    "# Indexing\n",
    "# Multiple and duplicate\n",
    "# Ordered\n",
    "# Mutable"
   ]
  },
  {
   "cell_type": "code",
   "execution_count": 2,
   "id": "0134bec0-2858-4c4c-ab2d-32dd57e7b6af",
   "metadata": {},
   "outputs": [],
   "source": [
    "d = {}\n",
    "d = dict()"
   ]
  },
  {
   "cell_type": "code",
   "execution_count": 3,
   "id": "a25f31fb-057a-409a-b041-94078ef25cf5",
   "metadata": {},
   "outputs": [
    {
     "name": "stdout",
     "output_type": "stream",
     "text": [
      "{'a': 'Apple', 'b': 'Ball', 'c': 'Cat'}\n"
     ]
    }
   ],
   "source": [
    "d = {\"a\":\"Apple\",\"b\":\"Ball\",\"c\":\"Cat\"}\n",
    "print(d)"
   ]
  },
  {
   "cell_type": "code",
   "execution_count": 4,
   "id": "6415dd4d-f0f5-4469-ad15-799459b5f23d",
   "metadata": {},
   "outputs": [
    {
     "data": {
      "text/plain": [
       "dict"
      ]
     },
     "execution_count": 4,
     "metadata": {},
     "output_type": "execute_result"
    }
   ],
   "source": [
    "d = {1:1,2:4,3:9,4:16}\n",
    "type(d)"
   ]
  },
  {
   "cell_type": "code",
   "execution_count": 13,
   "id": "ef08f9c3-90d5-44d4-8d9d-9de80c809b99",
   "metadata": {},
   "outputs": [
    {
     "name": "stdout",
     "output_type": "stream",
     "text": [
      "Apple\n"
     ]
    }
   ],
   "source": [
    "d = {\"a\":\"Apple\",\"b\":\"Ball\",\"c\":\"Cat\",\"A\":\"Apple\"}\n",
    "print(d['a'])"
   ]
  },
  {
   "cell_type": "code",
   "execution_count": 17,
   "id": "3236d9ba-0461-45d6-b5b4-27c18a8ecadd",
   "metadata": {},
   "outputs": [
    {
     "data": {
      "text/plain": [
       "9808778765"
      ]
     },
     "execution_count": 17,
     "metadata": {},
     "output_type": "execute_result"
    }
   ],
   "source": [
    "d = {(\"Ram\",\"Shyam\"):9808778765}\n",
    "d[(\"Ram\",\"Shyam\")]"
   ]
  },
  {
   "cell_type": "code",
   "execution_count": 15,
   "id": "e5e045d5-f817-4bf0-b3a5-17d3ce1d107f",
   "metadata": {},
   "outputs": [
    {
     "name": "stdout",
     "output_type": "stream",
     "text": [
      "a\n",
      "b\n",
      "c\n",
      "A\n"
     ]
    }
   ],
   "source": [
    "d = {\"a\":\"Apple\",\"b\":\"Ball\",\"c\":\"Cat\",\"A\":\"Apple\"}\n",
    "for i in d:\n",
    "    print(i)"
   ]
  },
  {
   "cell_type": "code",
   "execution_count": 18,
   "id": "a5fd1d39-2a9e-4962-b8e1-1f56314c8986",
   "metadata": {},
   "outputs": [
    {
     "name": "stdout",
     "output_type": "stream",
     "text": [
      "Apple\n",
      "Ball\n",
      "Cat\n",
      "Apple\n"
     ]
    }
   ],
   "source": [
    "d = {\"a\":\"Apple\",\"b\":\"Ball\",\"c\":\"Cat\",\"A\":\"Apple\"}\n",
    "for i in d.values():\n",
    "    print(i)"
   ]
  },
  {
   "cell_type": "code",
   "execution_count": 19,
   "id": "93189a4d-e742-4262-a969-f2a5add8ce5f",
   "metadata": {},
   "outputs": [
    {
     "name": "stdout",
     "output_type": "stream",
     "text": [
      "('a', 'Apple')\n",
      "('b', 'Ball')\n",
      "('c', 'Cat')\n",
      "('A', 'Apple')\n"
     ]
    }
   ],
   "source": [
    "d = {\"a\":\"Apple\",\"b\":\"Ball\",\"c\":\"Cat\",\"A\":\"Apple\"}\n",
    "for i in d.items():\n",
    "    print(i)"
   ]
  },
  {
   "cell_type": "code",
   "execution_count": 21,
   "id": "3c6d5ec0-eafa-4f43-af46-20ccb26b79d2",
   "metadata": {},
   "outputs": [
    {
     "data": {
      "text/plain": [
       "{'a': 'Apple', 'b': 'Ball', 'c': 'Cat'}"
      ]
     },
     "execution_count": 21,
     "metadata": {},
     "output_type": "execute_result"
    }
   ],
   "source": [
    "d = {}\n",
    "d['a'] = \"Apple\"\n",
    "d['b'] = \"Ball\"\n",
    "d['c'] = \"Cat\"\n",
    "d"
   ]
  },
  {
   "cell_type": "code",
   "execution_count": 22,
   "id": "dfa2e151-8ebc-4911-b4c0-c180235c5b3e",
   "metadata": {},
   "outputs": [
    {
     "name": "stdin",
     "output_type": "stream",
     "text": [
      "Enter n =  3\n",
      "Enter name =  Ram\n",
      "Enter phone =  9808778765\n",
      "Enter name =  Shyam\n",
      "Enter phone =  9808667654\n",
      "Enter name =  Hari\n",
      "Enter phone =  9808445432\n"
     ]
    },
    {
     "name": "stdout",
     "output_type": "stream",
     "text": [
      "{'Ram': '9808778765', 'Shyam': '9808667654', 'Hari': '9808445432'}\n"
     ]
    }
   ],
   "source": [
    "d = {}\n",
    "n = int(input(\"Enter n = \"))\n",
    "for i in range(n):\n",
    "    name = input(\"Enter name = \")\n",
    "    phone = input(\"Enter phone = \")\n",
    "    d[name] = phone\n",
    "\n",
    "print(d)"
   ]
  },
  {
   "cell_type": "code",
   "execution_count": 23,
   "id": "e3341482-7c81-4107-bd8e-24c3179e3780",
   "metadata": {},
   "outputs": [
    {
     "data": {
      "text/plain": [
       "{'Ram': '9808778765',\n",
       " 'Shyam': '9808667654',\n",
       " 'Hari': '9808445432',\n",
       " 'Nabin': 980778765}"
      ]
     },
     "execution_count": 23,
     "metadata": {},
     "output_type": "execute_result"
    }
   ],
   "source": [
    "d = {'Ram': '9808778765', 'Shyam': '9808667654', 'Hari': '9808445432'}\n",
    "d[\"Nabin\"] = 980778765\n",
    "d"
   ]
  },
  {
   "cell_type": "code",
   "execution_count": 24,
   "id": "a5f8bb29-2612-452a-87eb-68f47eb9618a",
   "metadata": {},
   "outputs": [
    {
     "data": {
      "text/plain": [
       "{'Ram': 9808778765, 'Shyam': '9808667654', 'Hari': '9808445432'}"
      ]
     },
     "execution_count": 24,
     "metadata": {},
     "output_type": "execute_result"
    }
   ],
   "source": [
    "d = {'Ram': '9808778765', 'Shyam': '9808667654', 'Hari': '9808445432'}\n",
    "d['Ram'] = 9808778765\n",
    "d"
   ]
  },
  {
   "cell_type": "code",
   "execution_count": 25,
   "id": "c4b8db1f-21fb-475c-82f2-38eedcbcadfc",
   "metadata": {},
   "outputs": [
    {
     "name": "stdout",
     "output_type": "stream",
     "text": [
      "{'Shyam': '9808667654', 'Hari': '9808445432'}\n"
     ]
    }
   ],
   "source": [
    "#del pop()\n",
    "d = {'Ram': '9808778765', 'Shyam': '9808667654', 'Hari': '9808445432'}\n",
    "del d[\"Ram\"]\n",
    "print(d)"
   ]
  },
  {
   "cell_type": "code",
   "execution_count": 29,
   "id": "512b4fa6-271f-40c2-a27f-71cc4887f7a9",
   "metadata": {},
   "outputs": [
    {
     "name": "stdout",
     "output_type": "stream",
     "text": [
      "{'Shyam': '9808667654', 'Hari': '9808445432'}\n",
      "9808778765\n"
     ]
    }
   ],
   "source": [
    "d = {'Ram': '9808778765', 'Shyam': '9808667654', 'Hari': '9808445432'}\n",
    "b = d.pop(\"Ram\")\n",
    "print(d)\n",
    "print(b)"
   ]
  },
  {
   "cell_type": "code",
   "execution_count": 30,
   "id": "d8187b74-3a3e-43d1-b73f-a7e47ebb0031",
   "metadata": {},
   "outputs": [
    {
     "name": "stdout",
     "output_type": "stream",
     "text": [
      "{'Ram': '9808778765', 'Shyam': '9808667654', 'Hari': '9808445432', 1: 1, 2: 4, 3: 9}\n"
     ]
    }
   ],
   "source": [
    "# in dict No + * \n",
    "a = {'Ram': '9808778765', 'Shyam': '9808667654', 'Hari': '9808445432'}\n",
    "b = {1:1,2:4,3:9}\n",
    "a.update(b)\n",
    "print(a)"
   ]
  },
  {
   "cell_type": "code",
   "execution_count": 32,
   "id": "687a6668-c6bd-4abc-bec8-21c42e0ec0bf",
   "metadata": {},
   "outputs": [
    {
     "name": "stdout",
     "output_type": "stream",
     "text": [
      "['9808778765', '9808667654']\n"
     ]
    }
   ],
   "source": [
    "# list inside dict\n",
    "a = {'Ram': ['9808778765','9808667654'], 'Shyam': ['9808667654','9808787654'], 'Hari': ['9808445432','9808778765']}\n",
    "\n",
    "print(a['Ram'])"
   ]
  },
  {
   "cell_type": "code",
   "execution_count": 33,
   "id": "73cbe3b3-cded-419e-8906-a7c12c32e159",
   "metadata": {},
   "outputs": [
    {
     "name": "stdout",
     "output_type": "stream",
     "text": [
      "9808667654\n"
     ]
    }
   ],
   "source": [
    "print(a['Ram'][1])"
   ]
  },
  {
   "cell_type": "code",
   "execution_count": 34,
   "id": "a09137ba-0997-42b3-adf6-7da1d72b0d84",
   "metadata": {},
   "outputs": [
    {
     "name": "stdin",
     "output_type": "stream",
     "text": [
      "Enter name =  Shyam\n"
     ]
    },
    {
     "name": "stdout",
     "output_type": "stream",
     "text": [
      "9848787654\n"
     ]
    }
   ],
   "source": [
    "a = {'Ram': ['9808778765','9848667654'], 'Shyam': ['9808667654','9848787654'], 'Hari': ['9808445432','9848778765']}\n",
    "name = input(\"Enter name = \")\n",
    "print(a[name][1])"
   ]
  },
  {
   "cell_type": "code",
   "execution_count": 38,
   "id": "913d76cc-62d2-49b8-8474-a1d8dce8734e",
   "metadata": {},
   "outputs": [
    {
     "name": "stdin",
     "output_type": "stream",
     "text": [
      "Enter name =  Shyam\n"
     ]
    },
    {
     "name": "stdout",
     "output_type": "stream",
     "text": [
      "Shyam\n",
      "56\n",
      "Bhaktapur\n"
     ]
    }
   ],
   "source": [
    "a = {\"name\":[\"Ram\",\"Shyam\",\"Hari\"],\n",
    "     \"age\":[34,56,43],\n",
    "    \"address\":[\"Kathmandu\",\"Bhaktapur\",\"Lalitpur\"]}\n",
    "\n",
    "name = input(\"Enter name = \")\n",
    "i = a[\"name\"].index(name)\n",
    "print(a[\"name\"][i])\n",
    "print(a[\"age\"][i])\n",
    "print(a[\"address\"][i])"
   ]
  },
  {
   "cell_type": "code",
   "execution_count": 37,
   "id": "de6c3e61-a0b4-4d1a-8afb-38ea3111145d",
   "metadata": {},
   "outputs": [
    {
     "data": {
      "text/plain": [
       "0"
      ]
     },
     "execution_count": 37,
     "metadata": {},
     "output_type": "execute_result"
    }
   ],
   "source": [
    " a[\"name\"].index(\"Ram\")"
   ]
  },
  {
   "cell_type": "code",
   "execution_count": null,
   "id": "34f25748-2e42-44a3-82c8-d245a9dd7446",
   "metadata": {},
   "outputs": [],
   "source": [
    "WAP to create this format\n",
    "a = {'Ram': ['9808778765','9808667654'], 'Shyam': ['9808667654','9808787654'], 'Hari': ['9808445432','9808778765']}\n",
    "\n",
    "\n",
    "WAP to create this format\n",
    "a = {\"name\":[\"Ram\",\"Shyam\",\"Hari\"],\n",
    "     \"age\":[34,56,43],\n",
    "    \"address\":[\"Kathmandu\",\"Bhaktapur\",\"Lalitpur\"]}"
   ]
  },
  {
   "cell_type": "code",
   "execution_count": 1,
   "id": "6c11a8cf-5407-47d0-8944-f0ad5c555eed",
   "metadata": {},
   "outputs": [
    {
     "name": "stdin",
     "output_type": "stream",
     "text": [
      "Enter n =  2\n",
      "Enter name =  Ram\n",
      "Enter ntc phone no =  9865778765\n",
      "Enter ncell phone no =  980877865\n",
      "Enter name =  Shyam\n",
      "Enter ntc phone no =  9845667654\n",
      "Enter ncell phone no =  9808778765\n"
     ]
    },
    {
     "name": "stdout",
     "output_type": "stream",
     "text": [
      "{'Ram': ['9865778765', '980877865'], 'Shyam': ['9845667654', '9808778765']}\n"
     ]
    }
   ],
   "source": [
    "# WAP to create this format\n",
    "# a = {'Ram': ['9808778765','9808667654'], 'Shyam': ['9808667654','9808787654'], 'Hari': ['9808445432','9808778765']}\n",
    "a = {}\n",
    "n = int(input(\"Enter n = \"))\n",
    "for i in range(n):\n",
    "    name = input(\"Enter name = \")\n",
    "    ntc = input(\"Enter ntc phone no = \")\n",
    "    ncell = input(\"Enter ncell phone no = \")\n",
    "    a[name] = [ntc,ncell]\n",
    "\n",
    "print(a)"
   ]
  },
  {
   "cell_type": "code",
   "execution_count": null,
   "id": "9f221f90-52b9-46c2-9637-7a2b60ec6f4e",
   "metadata": {},
   "outputs": [],
   "source": [
    "WAP to create this format\n",
    "# a = {\"name\":[\"Ram\",\"Shyam\",\"Hari\"],\n",
    "#      \"age\":[34,56,43],\n",
    "#     \"address\":[\"Kathmandu\",\"Bhaktapur\",\"Lalitpur\"]}\n",
    "a = {\"name\":[],\n",
    "     \"age\":[],\n",
    "     \"add\":[]}\n",
    "\n",
    "for i in range(n):\n",
    "    name = input(\"Enter name = \")\n",
    "    age = int(\"Enter age = \")\n",
    "    add = input(\"Enter address = \")\n",
    "    a[\"name\"].append(name)\n",
    "    a[\"age\"].append(age)\n",
    "    a[\"add\"].append(add)\n",
    "\n",
    "print(a)"
   ]
  },
  {
   "cell_type": "code",
   "execution_count": 2,
   "id": "4866f75b-c77a-4364-b01e-07f13fa5d83d",
   "metadata": {},
   "outputs": [
    {
     "data": {
      "text/plain": [
       "[{'name': 'Ram', 'age': 34, 'add': 'Kathmandu'},\n",
       " {'name': 'Shyam', 'age': 44, 'add': 'Bhaktapur'},\n",
       " {'name': 'Hari', 'age': 35, 'add': 'Lalitpur'}]"
      ]
     },
     "execution_count": 2,
     "metadata": {},
     "output_type": "execute_result"
    }
   ],
   "source": [
    "#dict inside list\n",
    "a = [{\"name\":\"Ram\",\"age\":34,\"add\":\"Kathmandu\"},\n",
    "    {\"name\":\"Shyam\",\"age\":44,\"add\":\"Bhaktapur\"},\n",
    "    {\"name\":\"Hari\",\"age\":35,\"add\":\"Lalitpur\"}]\n",
    "a"
   ]
  },
  {
   "cell_type": "code",
   "execution_count": null,
   "id": "b6fda602-a2c4-4e33-b732-b16479d2dcd2",
   "metadata": {},
   "outputs": [],
   "source": [
    "a = []\n",
    "for i in range(n):\n",
    "    name = input(\"Enter name = \")\n",
    "    age = int(\"Enter age = \")\n",
    "    add = input(\"Enter address = \")\n",
    "    b = {\"name\":name,\"age\":age,\"add\":add}\n",
    "    a.append(b)\n",
    "\n",
    "print(a)"
   ]
  },
  {
   "cell_type": "code",
   "execution_count": 6,
   "id": "bcd06dec-7acf-4ca5-b348-7e42617e91e0",
   "metadata": {},
   "outputs": [
    {
     "data": {
      "text/plain": [
       "'Kathmandu'"
      ]
     },
     "execution_count": 6,
     "metadata": {},
     "output_type": "execute_result"
    }
   ],
   "source": [
    "a = [{\"name\":\"Ram\",\"age\":34,\"add\":\"Kathmandu\"},\n",
    "    {\"name\":\"Shyam\",\"age\":44,\"add\":\"Bhaktapur\"},\n",
    "    {\"name\":\"Hari\",\"age\":35,\"add\":\"Lalitpur\"}]\n",
    "a[0][\"add\"]"
   ]
  },
  {
   "cell_type": "code",
   "execution_count": 7,
   "id": "8ecdc648-076a-4ab0-a7c9-b07b44f526b3",
   "metadata": {},
   "outputs": [
    {
     "data": {
      "text/plain": [
       "{1: {'name': 'Ram', 'age': 34, 'add': 'Kathmandu'},\n",
       " 2: {'name': 'Shyam', 'age': 44, 'add': 'Bhaktapur'},\n",
       " 3: {'name': 'Hari', 'age': 35, 'add': 'Lalitpur'}}"
      ]
     },
     "execution_count": 7,
     "metadata": {},
     "output_type": "execute_result"
    }
   ],
   "source": [
    "# dict inside dict\n",
    "d = {1:{\"name\":\"Ram\",\"age\":34,\"add\":\"Kathmandu\"},\n",
    "    2:{\"name\":\"Shyam\",\"age\":44,\"add\":\"Bhaktapur\"},\n",
    "    3:{\"name\":\"Hari\",\"age\":35,\"add\":\"Lalitpur\"}}\n",
    "d"
   ]
  },
  {
   "cell_type": "code",
   "execution_count": 10,
   "id": "c4cb9f2b-4487-4eff-a0d2-5523cfba0c74",
   "metadata": {},
   "outputs": [
    {
     "name": "stdin",
     "output_type": "stream",
     "text": [
      "Enter n =  2\n",
      "Enter name =  Ram\n",
      "Enter age =  34\n",
      "Enter address =  Kathmandu\n",
      "Enter name =  Shyam\n",
      "Enter age =  45\n",
      "Enter address =  Bhaktapur\n"
     ]
    },
    {
     "name": "stdout",
     "output_type": "stream",
     "text": [
      "{1: {'name': 'Ram', 'age': 34, 'add': 'Kathmandu'}, 2: {'name': 'Shyam', 'age': 45, 'add': 'Bhaktapur'}}\n"
     ]
    }
   ],
   "source": [
    "a = {}\n",
    "n = int(input(\"Enter n = \"))\n",
    "for i in range(1,n+1):\n",
    "    name = input(\"Enter name = \")\n",
    "    age = int(input(\"Enter age = \"))\n",
    "    add = input(\"Enter address = \")\n",
    "    a[i]={'name': name, 'age': age, 'add': add}\n",
    "\n",
    "print(a)"
   ]
  },
  {
   "cell_type": "code",
   "execution_count": 11,
   "id": "2f64a155-a7b0-4345-8a37-c0931ac97f5b",
   "metadata": {},
   "outputs": [
    {
     "data": {
      "text/plain": [
       "{1: {'name': 'Ram', 'age': 34, 'add': 'Kathmandu'},\n",
       " 2: {'name': 'Shyam', 'age': 45, 'add': 'Bhaktapur'}}"
      ]
     },
     "execution_count": 11,
     "metadata": {},
     "output_type": "execute_result"
    }
   ],
   "source": [
    "a"
   ]
  },
  {
   "cell_type": "code",
   "execution_count": 13,
   "id": "693dfa21-a66f-4b4e-812e-033e0f572d5d",
   "metadata": {},
   "outputs": [
    {
     "data": {
      "text/plain": [
       "{1: {'name': 'Ram', 'age': 34, 'add': 'Kathmandu'},\n",
       " 2: {'name': 'Shyam', 'age': 45, 'add': 'Bhaktapur'},\n",
       " 3: {'name': 'Shyam', 'age': 45, 'add': 'Bhaktapur'}}"
      ]
     },
     "execution_count": 13,
     "metadata": {},
     "output_type": "execute_result"
    }
   ],
   "source": [
    "a[3] = {'name': 'Shyam', 'age': 45, 'add': 'Bhaktapur'}\n",
    "a"
   ]
  },
  {
   "cell_type": "code",
   "execution_count": 15,
   "id": "5f7f3919-1b98-481f-8110-47163ef306be",
   "metadata": {},
   "outputs": [
    {
     "data": {
      "text/plain": [
       "{1: {'name': 'Ram', 'age': 34, 'add': 'Kathmandu'},\n",
       " 2: {'name': 'Shyam', 'age': 45, 'add': 'Bhaktapur'},\n",
       " 3: {'name': 'Hari', 'age': 45, 'add': 'Bhaktapur'}}"
      ]
     },
     "execution_count": 15,
     "metadata": {},
     "output_type": "execute_result"
    }
   ],
   "source": [
    "a[3][\"name\"] = \"Hari\"\n",
    "a"
   ]
  },
  {
   "cell_type": "code",
   "execution_count": null,
   "id": "43cd5366-8f2c-4c9c-b33b-e39d07dbfdbb",
   "metadata": {},
   "outputs": [],
   "source": []
  }
 ],
 "metadata": {
  "kernelspec": {
   "display_name": "Python 3 (ipykernel)",
   "language": "python",
   "name": "python3"
  },
  "language_info": {
   "codemirror_mode": {
    "name": "ipython",
    "version": 3
   },
   "file_extension": ".py",
   "mimetype": "text/x-python",
   "name": "python",
   "nbconvert_exporter": "python",
   "pygments_lexer": "ipython3",
   "version": "3.11.7"
  }
 },
 "nbformat": 4,
 "nbformat_minor": 5
}
