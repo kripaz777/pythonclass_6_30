{
 "cells": [
  {
   "cell_type": "code",
   "execution_count": 1,
   "id": "f45f3a94-6cc8-41df-960c-b6324ff72cf8",
   "metadata": {},
   "outputs": [
    {
     "name": "stdout",
     "output_type": "stream",
     "text": [
      "Requirement already satisfied: mysql-connector in c:\\users\\aayush\\anaconda3\\lib\\site-packages (2.2.9)\n"
     ]
    }
   ],
   "source": [
    "!pip install mysql-connector"
   ]
  },
  {
   "cell_type": "code",
   "execution_count": 4,
   "id": "5ece8f94-dbaf-430e-9b98-5b2a145317d1",
   "metadata": {},
   "outputs": [],
   "source": [
    "import mysql.connector\n",
    "#importing database\n",
    "database = mysql.connector.connect(\n",
    "host=\"localhost\",\n",
    "user=\"root\",\n",
    "password=\"\",\n",
    "database = \"python_class630\"\n",
    ")\n",
    "db = database.cursor()"
   ]
  },
  {
   "cell_type": "code",
   "execution_count": null,
   "id": "00994a20-c29b-45b2-8490-75a3c307199c",
   "metadata": {},
   "outputs": [],
   "source": [
    "#read"
   ]
  },
  {
   "cell_type": "code",
   "execution_count": 5,
   "id": "0b44513e-fb78-4ad5-9eaf-a72afe1ddfd0",
   "metadata": {},
   "outputs": [
    {
     "name": "stdout",
     "output_type": "stream",
     "text": [
      "(1, 'Ram Thapa', 78, 89, 45, 89, 76, 430, 85.0, 'A')\n",
      "(2, 'Shyam Thapa', 78, 89, 45, 89, 76, 430, 85.0, 'A')\n"
     ]
    }
   ],
   "source": [
    "db.execute(\"SELECT * FROM students\")\n",
    "result = db.fetchall()\n",
    "for i in result:\n",
    "    print(i)"
   ]
  },
  {
   "cell_type": "code",
   "execution_count": 6,
   "id": "3f471106-ac56-4565-98c0-0beead5410fe",
   "metadata": {},
   "outputs": [
    {
     "name": "stdout",
     "output_type": "stream",
     "text": [
      "('Ram Thapa', 430, 'A')\n",
      "('Shyam Thapa', 430, 'A')\n"
     ]
    }
   ],
   "source": [
    "db.execute(\"SELECT name,total,grade FROM students\")\n",
    "result = db.fetchall()\n",
    "for i in result:\n",
    "    print(i)"
   ]
  },
  {
   "cell_type": "code",
   "execution_count": 8,
   "id": "4d59f31b-95d2-4bbd-9f64-40b1c6e39dec",
   "metadata": {},
   "outputs": [
    {
     "name": "stdout",
     "output_type": "stream",
     "text": [
      "('Ram Thapa', 430, 'A')\n",
      "('Shyam Thapa', 430, 'A')\n"
     ]
    }
   ],
   "source": [
    "db.execute(\"SELECT name,total,grade FROM students WHERE per > 80 \")\n",
    "result = db.fetchall()\n",
    "for i in result:\n",
    "    print(i)"
   ]
  },
  {
   "cell_type": "code",
   "execution_count": 9,
   "id": "00fffb09-9d39-459a-9677-307a6600ca64",
   "metadata": {},
   "outputs": [],
   "source": [
    "#insert"
   ]
  },
  {
   "cell_type": "code",
   "execution_count": 12,
   "id": "62d170c8-27cf-49c3-8c37-b122ee6d1991",
   "metadata": {},
   "outputs": [
    {
     "data": {
      "text/plain": [
       "\"INSERT INTO `students` (`name`, `physics`, `chemistry`, `math`, `english`, `nepali`, `total`, `per`, `grade`)\\nVALUES ('Hari', '89', '98', '99', '80', '85', '485', '94', 'A'); \""
      ]
     },
     "execution_count": 12,
     "metadata": {},
     "output_type": "execute_result"
    }
   ],
   "source": [
    "sql = \"\"\"INSERT INTO `students` (`name`, `physics`, `chemistry`, `math`, `english`, `nepali`, `total`, `per`, `grade`)\n",
    "VALUES ('Hari', '89', '98', '99', '80', '85', '485', '94', 'A'); \"\"\"\n",
    "db.execute(sql)\n",
    "database.commit()"
   ]
  },
  {
   "cell_type": "code",
   "execution_count": 13,
   "id": "ee765911-758b-4cb6-9347-88ef509a7e06",
   "metadata": {},
   "outputs": [
    {
     "name": "stdin",
     "output_type": "stream",
     "text": [
      "Enter n =  1\n",
      "Enter name =  Sabin\n",
      "Enter physics msrks =  89\n",
      "Enter chemistry marks =  98\n",
      "Enter math marks =  90\n",
      "Enter english marks =  87\n",
      "Enter nepali marks =  89\n"
     ]
    }
   ],
   "source": [
    "n = int(input(\"Enter n = \"))\n",
    "for i in range(n):\n",
    "    name = input(\"Enter name = \")\n",
    "    physics = int(input(\"Enter physics msrks = \"))\n",
    "    chemistry = int(input(\"Enter chemistry marks = \"))\n",
    "    math = int(input(\"Enter math marks = \"))\n",
    "    english = int(input(\"Enter english marks = \"))\n",
    "    nepali = int(input(\"Enter nepali marks = \"))\n",
    "    \n",
    "    total = sum([physics,chemistry,math,english,nepali])\n",
    "    per = total/5\n",
    "    if per >= 80:\n",
    "        grade = \"A\"\n",
    "    elif per >= 60:\n",
    "        grade = \"B\"\n",
    "    elif per >= 40:\n",
    "        grade = \"C\"\n",
    "    else:\n",
    "        grade = \"F\"\n",
    "    sql = f\"\"\"INSERT INTO students (name,physics,chemistry,math,english,nepali,total,per,grade)\n",
    "    VALUES ('{name}', {physics}, {chemistry}, {math}, {english}, {nepali}, {total}, {per}, '{grade}'); \"\"\"\n",
    "    db.execute(sql)\n",
    "    \n",
    "database.commit()"
   ]
  },
  {
   "cell_type": "code",
   "execution_count": 14,
   "id": "8862bb39-3b9c-4b25-9a6c-29be221d38bb",
   "metadata": {},
   "outputs": [],
   "source": [
    "# Update\n",
    "sql = \"UPDATE students SET name = 'Ram Prasad' WHERE sn = 1\"\n",
    "db.execute(sql)\n",
    "database.commit()"
   ]
  },
  {
   "cell_type": "code",
   "execution_count": 15,
   "id": "eb5f0a94-5ed3-4f4f-8bc4-4fa719614e61",
   "metadata": {},
   "outputs": [],
   "source": [
    "#delete\n",
    "sql = \"DELETE FROM students WHERE sn = 3\"\n",
    "db.execute(sql)\n",
    "database.commit()"
   ]
  },
  {
   "cell_type": "code",
   "execution_count": null,
   "id": "cbd2ddbc-c0ff-41ea-b5c3-5bb513b286c5",
   "metadata": {},
   "outputs": [],
   "source": []
  }
 ],
 "metadata": {
  "kernelspec": {
   "display_name": "Python 3 (ipykernel)",
   "language": "python",
   "name": "python3"
  },
  "language_info": {
   "codemirror_mode": {
    "name": "ipython",
    "version": 3
   },
   "file_extension": ".py",
   "mimetype": "text/x-python",
   "name": "python",
   "nbconvert_exporter": "python",
   "pygments_lexer": "ipython3",
   "version": "3.11.7"
  }
 },
 "nbformat": 4,
 "nbformat_minor": 5
}
