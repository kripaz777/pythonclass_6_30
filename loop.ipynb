{
 "cells": [
  {
   "cell_type": "code",
   "execution_count": 1,
   "id": "1876ff1b-ae31-4ad7-82a9-444379711a67",
   "metadata": {},
   "outputs": [],
   "source": [
    "# for loop\n",
    "# while loop"
   ]
  },
  {
   "cell_type": "code",
   "execution_count": 2,
   "id": "c538c607-22e4-478b-beef-35a00405c69e",
   "metadata": {},
   "outputs": [],
   "source": [
    "# range(5)              #0,1,2,3,4\n",
    "# range(1,5)            #1,2,3,4\n",
    "# range(1,10,2)         #1,3,5,7,9"
   ]
  },
  {
   "cell_type": "code",
   "execution_count": 4,
   "id": "040a57ca-96ab-45d8-8723-159c1a651959",
   "metadata": {},
   "outputs": [
    {
     "name": "stdout",
     "output_type": "stream",
     "text": [
      "0 Hello World\n",
      "1 Hello World\n",
      "2 Hello World\n",
      "3 Hello World\n",
      "4 Hello World\n"
     ]
    }
   ],
   "source": [
    "\n",
    "for i in range(5):\n",
    "    print(i,\"Hello World\")"
   ]
  },
  {
   "cell_type": "code",
   "execution_count": 5,
   "id": "bf5d8a6d-a6ea-4ce9-bfad-caf0fa41ef03",
   "metadata": {},
   "outputs": [
    {
     "name": "stdout",
     "output_type": "stream",
     "text": [
      "1 Hello World\n",
      "2 Hello World\n",
      "3 Hello World\n",
      "4 Hello World\n"
     ]
    }
   ],
   "source": [
    "for i in range(1,5):\n",
    "    print(i,\"Hello World\")"
   ]
  },
  {
   "cell_type": "code",
   "execution_count": 9,
   "id": "5e4b8657-4cf2-4c6a-90ac-ac2f54519c23",
   "metadata": {},
   "outputs": [
    {
     "name": "stdout",
     "output_type": "stream",
     "text": [
      "0 Hello World\n",
      "3 Hello World\n"
     ]
    }
   ],
   "source": [
    "for i in range(0,5,3):\n",
    "    print(i,\"Hello World\")"
   ]
  },
  {
   "cell_type": "code",
   "execution_count": 11,
   "id": "f98c3609-6b66-471b-8818-104dae3980c9",
   "metadata": {},
   "outputs": [
    {
     "name": "stdout",
     "output_type": "stream",
     "text": [
      "2\n",
      "4\n",
      "6\n",
      "8\n",
      "10\n",
      "12\n",
      "14\n",
      "16\n",
      "18\n",
      "20\n"
     ]
    }
   ],
   "source": [
    "for i in range(2,21,2):\n",
    "    print(i)"
   ]
  },
  {
   "cell_type": "code",
   "execution_count": 15,
   "id": "0e0498c3-6ee6-4b8d-8af4-99f241e6a0d9",
   "metadata": {},
   "outputs": [
    {
     "name": "stdin",
     "output_type": "stream",
     "text": [
      "Enter x =  5\n"
     ]
    },
    {
     "name": "stdout",
     "output_type": "stream",
     "text": [
      "5 * 1 = 5\n",
      "5 * 2 = 10\n",
      "5 * 3 = 15\n",
      "5 * 4 = 20\n",
      "5 * 5 = 25\n",
      "5 * 6 = 30\n",
      "5 * 7 = 35\n",
      "5 * 8 = 40\n",
      "5 * 9 = 45\n",
      "5 * 10 = 50\n"
     ]
    }
   ],
   "source": [
    "x = int(input(\"Enter x = \"))\n",
    "for i in range(1,11):\n",
    "    print(x,\"*\",i,\"=\",i*x)"
   ]
  },
  {
   "cell_type": "code",
   "execution_count": 17,
   "id": "8202d980-daec-4119-a9e0-1d61457c1774",
   "metadata": {},
   "outputs": [
    {
     "name": "stdin",
     "output_type": "stream",
     "text": [
      "Enter n =  5\n",
      "Enter fund =  1000\n",
      "Enter fund =  3000\n",
      "Enter fund =  5000\n",
      "Enter fund =  3000\n",
      "Enter fund =  5000\n"
     ]
    },
    {
     "name": "stdout",
     "output_type": "stream",
     "text": [
      "17000\n"
     ]
    }
   ],
   "source": [
    "acc = 0\n",
    "n = int(input(\"Enter n = \"))\n",
    "for i in range(n):\n",
    "    fund = int(input(\"Enter fund = \"))\n",
    "    acc = acc + fund\n",
    "\n",
    "print(acc)"
   ]
  },
  {
   "cell_type": "code",
   "execution_count": 18,
   "id": "ffe9b0fc-e0d3-4527-9e1b-0569bb1fcd94",
   "metadata": {},
   "outputs": [
    {
     "name": "stdin",
     "output_type": "stream",
     "text": [
      "Enter n =  2\n",
      "Enter p 1000\n",
      "Enter t =  3\n",
      "Enter r =  10\n"
     ]
    },
    {
     "name": "stdout",
     "output_type": "stream",
     "text": [
      "The value of i is =  300.0\n"
     ]
    },
    {
     "name": "stdin",
     "output_type": "stream",
     "text": [
      "Enter p 40000\n",
      "Enter t =  4\n",
      "Enter r =  2\n"
     ]
    },
    {
     "name": "stdout",
     "output_type": "stream",
     "text": [
      "The value of i is =  3200.0\n"
     ]
    }
   ],
   "source": [
    "n = int(input(\"Enter n = \"))\n",
    "for i in range(n):\n",
    "    p = int(input(\"Enter p\"))\n",
    "    t = int(input(\"Enter t = \"))\n",
    "    r = int(input(\"Enter r = \"))\n",
    "    i = p*t*r/100\n",
    "    print(\"The value of i is = \",i)"
   ]
  },
  {
   "cell_type": "code",
   "execution_count": 20,
   "id": "8194d826-1c34-4294-b3ba-714a0391985f",
   "metadata": {},
   "outputs": [
    {
     "data": {
      "text/plain": [
       "'Ram 9840067559'"
      ]
     },
     "execution_count": 20,
     "metadata": {},
     "output_type": "execute_result"
    }
   ],
   "source": [
    "\"Ram\" +\" \"+ 9840067559"
   ]
  },
  {
   "cell_type": "code",
   "execution_count": null,
   "id": "358fe258-c4f0-4514-bcaa-7c77dce1649f",
   "metadata": {},
   "outputs": [],
   "source": [
    "phone = 9840067559\n",
    "str(phone)"
   ]
  },
  {
   "cell_type": "code",
   "execution_count": 23,
   "id": "2c6c98fe-7ba1-4299-beb8-ca1bd1977670",
   "metadata": {},
   "outputs": [
    {
     "name": "stdin",
     "output_type": "stream",
     "text": [
      "Enter n =  2\n",
      "Enter name =  Ram\n",
      "Enter phone =  9808778765\n",
      "Enter name =  Shyam\n",
      "Enter phone =  9808778765\n"
     ]
    },
    {
     "name": "stdout",
     "output_type": "stream",
     "text": [
      "Ram 9808778765\n",
      "Shyam 9808778765\n",
      "\n"
     ]
    }
   ],
   "source": [
    "# name = \"Ram\"\n",
    "# phone = 9808786654\n",
    "info = \"\"\n",
    "n = int(input(\"Enter n = \"))\n",
    "for i in range(n):\n",
    "    name = input(\"Enter name = \")\n",
    "    phone = int(input(\"Enter phone = \"))\n",
    "    x = name + \" \" + str(phone) + \"\\n\"\n",
    "    info = info + x\n",
    "\n",
    "print(info)"
   ]
  },
  {
   "cell_type": "code",
   "execution_count": 26,
   "id": "e92ff846-c136-4a28-bad1-2b71d68a5f0f",
   "metadata": {},
   "outputs": [
    {
     "name": "stdin",
     "output_type": "stream",
     "text": [
      "Enter n =  2\n",
      "Enter product name =  Coke\n",
      "Enter price =  100\n",
      "Enter qty =  3\n",
      "Enter product name =  Pepsi\n",
      "Enter price =  300\n",
      "Enter qty =  3\n"
     ]
    },
    {
     "name": "stdout",
     "output_type": "stream",
     "text": [
      "The total price =  1200.0\n",
      "The bill is \n",
      " Coke 100.0 3.0 300.0\n",
      "Pepsi 300.0 3.0 900.0\n",
      "\n"
     ]
    }
   ],
   "source": [
    "# WAP to create a billing system\n",
    "total = 0\n",
    "bill = str()\n",
    "n = int(input(\"Enter n = \"))\n",
    "for i in range(n):\n",
    "    product = input(\"Enter product name = \")\n",
    "    price = float(input(\"Enter price = \"))\n",
    "    qty = float(input(\"Enter qty = \"))\n",
    "    t = price * qty\n",
    "    b = product + \" \" + str(price) + \" \" + str(qty) + \" \" + str(t) + \"\\n\"\n",
    "    bill = bill + b\n",
    "    total = total + t\n",
    "    \n",
    "print(\"The total price = \",total)\n",
    "print(\"The bill is \\n\",bill)"
   ]
  },
  {
   "cell_type": "code",
   "execution_count": 1,
   "id": "133a5d7d-d06e-4fe7-9572-f94c4cc91dbd",
   "metadata": {},
   "outputs": [],
   "source": [
    "# WAP to create a Result management system"
   ]
  },
  {
   "cell_type": "code",
   "execution_count": 5,
   "id": "33834552-0c90-4916-a9e5-75cffb49cf78",
   "metadata": {},
   "outputs": [
    {
     "name": "stdout",
     "output_type": "stream",
     "text": [
      "H e l l o   W o r l d "
     ]
    }
   ],
   "source": [
    "# Loop in string\n",
    "a = \"Hello World\"\n",
    "for i in a:\n",
    "    print(i, end = \" \")"
   ]
  },
  {
   "cell_type": "code",
   "execution_count": 11,
   "id": "08789401-798c-4601-bd51-cdc3c2e0686c",
   "metadata": {},
   "outputs": [
    {
     "name": "stdout",
     "output_type": "stream",
     "text": [
      "Hello World I am Python"
     ]
    }
   ],
   "source": [
    "a = \"Hello World. I am Python.\"\n",
    "for i in a:\n",
    "    if i != \".\":\n",
    "        print(i, end = \"\")"
   ]
  },
  {
   "cell_type": "code",
   "execution_count": 12,
   "id": "23793546-9756-4edd-ba4d-c32c18094af6",
   "metadata": {},
   "outputs": [
    {
     "name": "stdout",
     "output_type": "stream",
     "text": [
      "H Hello World\n",
      "e Hello World\n",
      "l Hello World\n",
      "l Hello World\n",
      "o Hello World\n"
     ]
    }
   ],
   "source": [
    "a = \"Hello\"\n",
    "for i in a:\n",
    "    print(i, \"Hello World\")"
   ]
  },
  {
   "cell_type": "code",
   "execution_count": 13,
   "id": "f1e2fe74-b6aa-4814-a402-984fdf0d1779",
   "metadata": {},
   "outputs": [],
   "source": [
    "# Control statement\n",
    "# break\n",
    "# continue\n",
    "# pass"
   ]
  },
  {
   "cell_type": "code",
   "execution_count": 14,
   "id": "76aa5062-c7dd-404f-ad5d-6c3e0fd77510",
   "metadata": {},
   "outputs": [
    {
     "name": "stdout",
     "output_type": "stream",
     "text": [
      "0\n",
      "1\n",
      "2\n",
      "3\n",
      "4\n"
     ]
    }
   ],
   "source": [
    "for i in range(10):\n",
    "    if i == 5:\n",
    "        break\n",
    "    else:\n",
    "        print(i)"
   ]
  },
  {
   "cell_type": "code",
   "execution_count": 19,
   "id": "263a35a2-744b-4591-84e7-8eb31ac9867a",
   "metadata": {},
   "outputs": [
    {
     "name": "stdout",
     "output_type": "stream",
     "text": [
      "0 1 2 3 4 6 7 8 9 "
     ]
    }
   ],
   "source": [
    "for i in range(10):\n",
    "    if i == 5:\n",
    "        continue  \n",
    "    print(i,end = \" \")"
   ]
  },
  {
   "cell_type": "code",
   "execution_count": 22,
   "id": "7f17d020-1803-4fc4-b043-eaefb18b4a17",
   "metadata": {},
   "outputs": [
    {
     "name": "stdout",
     "output_type": "stream",
     "text": [
      "Hello World"
     ]
    }
   ],
   "source": [
    "a = \"Hello World. I am Python.\"\n",
    "for i in a:\n",
    "    if i == \".\":\n",
    "        break\n",
    "    else:\n",
    "        print(i, end = \"\")"
   ]
  },
  {
   "cell_type": "code",
   "execution_count": 24,
   "id": "8499b736-bb7a-400b-adb1-a428bc38a17e",
   "metadata": {},
   "outputs": [
    {
     "name": "stdout",
     "output_type": "stream",
     "text": [
      "Hello World I am Python"
     ]
    }
   ],
   "source": [
    "a = \"Hello World. I am Python.\"\n",
    "for i in a:\n",
    "    if i == \".\":\n",
    "        continue\n",
    "    print(i, end = \"\")"
   ]
  },
  {
   "cell_type": "code",
   "execution_count": 27,
   "id": "d415eee6-d179-4d8b-aabc-9716330bbfcc",
   "metadata": {},
   "outputs": [
    {
     "name": "stdout",
     "output_type": "stream",
     "text": [
      "Hello World I am Python"
     ]
    }
   ],
   "source": [
    "a = \"Hello World, I am Python.\"\n",
    "for i in a:\n",
    "    if i == \",\" or i == \".\":\n",
    "        continue\n",
    "    print(i, end = \"\")"
   ]
  },
  {
   "cell_type": "code",
   "execution_count": 25,
   "id": "aac4f269-01b8-4304-807d-a9710ba7f0af",
   "metadata": {},
   "outputs": [
    {
     "name": "stdout",
     "output_type": "stream",
     "text": [
      "5\n",
      "10\n",
      "15\n",
      "20\n",
      "25\n",
      "30\n",
      "35\n",
      "40\n",
      "45\n",
      "50\n"
     ]
    }
   ],
   "source": [
    "for i in range(1,51):\n",
    "    if i % 5 != 0:\n",
    "        continue\n",
    "    print(i)"
   ]
  },
  {
   "cell_type": "code",
   "execution_count": 28,
   "id": "0554b059-4f6f-4a17-93ef-aaf8f4e7a20b",
   "metadata": {},
   "outputs": [],
   "source": [
    "# # While\n",
    "# while <condition>:\n",
    "#     <operation>\n",
    "#     <increment or decrement>"
   ]
  },
  {
   "cell_type": "code",
   "execution_count": 29,
   "id": "c31b9659-d01f-487d-9529-345027f89a3a",
   "metadata": {},
   "outputs": [
    {
     "name": "stdout",
     "output_type": "stream",
     "text": [
      "0\n",
      "1\n",
      "2\n",
      "3\n",
      "4\n"
     ]
    }
   ],
   "source": [
    "i = 0\n",
    "while i<5:\n",
    "    print(i)\n",
    "    i = i +1"
   ]
  },
  {
   "cell_type": "code",
   "execution_count": 1,
   "id": "0cc2a40f-6f13-4934-b2f0-63172df02c30",
   "metadata": {},
   "outputs": [
    {
     "name": "stdout",
     "output_type": "stream",
     "text": [
      "5\n",
      "4\n",
      "3\n",
      "2\n",
      "1\n",
      "0\n"
     ]
    }
   ],
   "source": [
    "i = 5\n",
    "while i>=0:\n",
    "    print(i)\n",
    "    i = i - 1\n",
    "    "
   ]
  },
  {
   "cell_type": "code",
   "execution_count": 2,
   "id": "a179eb12-01ba-48c7-926c-dfce7aa89363",
   "metadata": {},
   "outputs": [
    {
     "name": "stdout",
     "output_type": "stream",
     "text": [
      "5\n",
      "4\n",
      "3\n",
      "2\n",
      "1\n",
      "0\n"
     ]
    }
   ],
   "source": [
    "for i in range(5,-1,-1):\n",
    "    print(i)"
   ]
  },
  {
   "cell_type": "code",
   "execution_count": 4,
   "id": "d99701a3-aca1-4c33-b019-362ed118e8c9",
   "metadata": {},
   "outputs": [
    {
     "name": "stdin",
     "output_type": "stream",
     "text": [
      "Enter x =  5\n"
     ]
    },
    {
     "name": "stdout",
     "output_type": "stream",
     "text": [
      "5 * 1 = 5\n",
      "5 * 2 = 10\n",
      "5 * 3 = 15\n",
      "5 * 4 = 20\n",
      "5 * 5 = 25\n",
      "5 * 6 = 30\n",
      "5 * 7 = 35\n",
      "5 * 8 = 40\n",
      "5 * 9 = 45\n",
      "5 * 10 = 50\n"
     ]
    }
   ],
   "source": [
    "i = 1\n",
    "x = int(input(\"Enter x = \"))\n",
    "while i<=10:\n",
    "    print(x,\"*\",i,\"=\",i*x)\n",
    "    i = i+1"
   ]
  },
  {
   "cell_type": "code",
   "execution_count": null,
   "id": "ee3462f4-d0fe-4878-93a1-8ef22df49de6",
   "metadata": {},
   "outputs": [],
   "source": []
  }
 ],
 "metadata": {
  "kernelspec": {
   "display_name": "Python 3 (ipykernel)",
   "language": "python",
   "name": "python3"
  },
  "language_info": {
   "codemirror_mode": {
    "name": "ipython",
    "version": 3
   },
   "file_extension": ".py",
   "mimetype": "text/x-python",
   "name": "python",
   "nbconvert_exporter": "python",
   "pygments_lexer": "ipython3",
   "version": "3.11.7"
  }
 },
 "nbformat": 4,
 "nbformat_minor": 5
}
