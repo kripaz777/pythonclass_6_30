{
 "cells": [
  {
   "cell_type": "code",
   "execution_count": 1,
   "id": "aaa88b1f-e60b-4633-ab98-dc146d16f1fe",
   "metadata": {},
   "outputs": [],
   "source": [
    "# Python Collection\n",
    "# List\n",
    "# Tuple\n",
    "# Dict\n",
    "# Set"
   ]
  },
  {
   "cell_type": "code",
   "execution_count": 2,
   "id": "027b84f9-b678-4b4d-905e-3f31cb398710",
   "metadata": {},
   "outputs": [],
   "source": [
    "# list\n",
    "# Indexing\n",
    "# Multiple and duplicate\n",
    "# Ordered\n",
    "# Mutable"
   ]
  },
  {
   "cell_type": "code",
   "execution_count": 4,
   "id": "45192dd8-5f3d-4580-831a-912f2025d9d3",
   "metadata": {},
   "outputs": [
    {
     "name": "stdout",
     "output_type": "stream",
     "text": [
      "[1, 2, 3, 4, 5, 6, 7, 8, 9]\n",
      "<class 'list'>\n",
      "['Apple', 'Ball', 'Cat', 'Dog']\n",
      "<class 'list'>\n"
     ]
    }
   ],
   "source": [
    "# list\n",
    "a = [1,2,3,4,5,6,7,8,9]\n",
    "b = [\"Apple\",\"Ball\",\"Cat\",\"Dog\"]\n",
    "print(a)\n",
    "print(type(a))\n",
    "print(b)\n",
    "print(type(b))"
   ]
  },
  {
   "cell_type": "code",
   "execution_count": 5,
   "id": "16454988-e875-45aa-ba59-7a388f3a7b7f",
   "metadata": {},
   "outputs": [
    {
     "data": {
      "text/plain": [
       "[]"
      ]
     },
     "execution_count": 5,
     "metadata": {},
     "output_type": "execute_result"
    }
   ],
   "source": [
    "a = list()\n",
    "a"
   ]
  },
  {
   "cell_type": "code",
   "execution_count": 10,
   "id": "ec324555-e6ec-43d6-91a0-c3142faf9e27",
   "metadata": {},
   "outputs": [
    {
     "name": "stdout",
     "output_type": "stream",
     "text": [
      "Apple\n",
      "['Apple', 'Ball', 'Cat']\n",
      "['Apple', 'Cat', 'Fish']\n"
     ]
    }
   ],
   "source": [
    "b = [\"Apple\",\"Ball\",\"Cat\",\"Dog\",\"Fish\",\"Goat\",\"Goat\"]\n",
    "print(b[0])\n",
    "print(b[0:3])\n",
    "print(b[0:6:2])"
   ]
  },
  {
   "cell_type": "code",
   "execution_count": 11,
   "id": "5168ccec-8d7f-4b5f-be6a-c30a3cd1f4c0",
   "metadata": {},
   "outputs": [
    {
     "name": "stdout",
     "output_type": "stream",
     "text": [
      "[1, 2, 3, 4, 5, 6, 7, 8, 9, 'Apple', 'Ball', 'Cat', 'Dog']\n"
     ]
    }
   ],
   "source": [
    "a = [1,2,3,4,5,6,7,8,9]\n",
    "b = [\"Apple\",\"Ball\",\"Cat\",\"Dog\"]\n",
    "c = a + b\n",
    "print(c)"
   ]
  },
  {
   "cell_type": "code",
   "execution_count": 12,
   "id": "2b974dca-1b77-431d-b2ae-bc4b985aacd0",
   "metadata": {},
   "outputs": [
    {
     "name": "stdout",
     "output_type": "stream",
     "text": [
      "[1, 2, 3, 4, 5, 6, 7, 8, 9, 1, 2, 3, 4, 5, 6, 7, 8, 9]\n"
     ]
    }
   ],
   "source": [
    "a = [1,2,3,4,5,6,7,8,9]\n",
    "print(a*2)"
   ]
  },
  {
   "cell_type": "code",
   "execution_count": 13,
   "id": "e4562e7e-b610-4627-a18e-02d1f882b37e",
   "metadata": {},
   "outputs": [
    {
     "name": "stdout",
     "output_type": "stream",
     "text": [
      "4\n"
     ]
    }
   ],
   "source": [
    "b = [\"Apple\",\"Ball\",\"Cat\",\"Dog\"]\n",
    "print(len(b))"
   ]
  },
  {
   "cell_type": "code",
   "execution_count": 14,
   "id": "5f75d165-ed8d-4c44-8ecd-8377e63128d0",
   "metadata": {},
   "outputs": [
    {
     "name": "stdout",
     "output_type": "stream",
     "text": [
      "Apple\n",
      "Ball\n",
      "Cat\n",
      "Dog\n"
     ]
    }
   ],
   "source": [
    "#for loop in list\n",
    "b = [\"Apple\",\"Ball\",\"Cat\",\"Dog\"]\n",
    "for i in b:\n",
    "    print(i)"
   ]
  },
  {
   "cell_type": "code",
   "execution_count": 17,
   "id": "a977657c-3851-4c02-bdba-bc0d82d6527f",
   "metadata": {},
   "outputs": [
    {
     "name": "stdout",
     "output_type": "stream",
     "text": [
      "Apple\n",
      "Ball\n",
      "Cat\n",
      "Dog\n"
     ]
    }
   ],
   "source": [
    "#range funtion in list\n",
    "b = [\"Apple\",\"Ball\",\"Cat\",\"Dog\"]\n",
    "c = len(b)\n",
    "for i in range(c):\n",
    "    print(b[i])"
   ]
  },
  {
   "cell_type": "code",
   "execution_count": 18,
   "id": "65088273-19ec-47b1-b75b-17c894641d2c",
   "metadata": {},
   "outputs": [],
   "source": [
    "# CRUD operation"
   ]
  },
  {
   "cell_type": "code",
   "execution_count": 19,
   "id": "4461cd9f-8248-45be-b361-a80dad8db90c",
   "metadata": {},
   "outputs": [],
   "source": [
    "# Create\n",
    "# append() insert() extend()"
   ]
  },
  {
   "cell_type": "code",
   "execution_count": 20,
   "id": "48d19524-b0e3-4306-a534-736b3bd5439d",
   "metadata": {},
   "outputs": [
    {
     "name": "stdout",
     "output_type": "stream",
     "text": [
      "['Apple', 'Ball', 'Cat', 'Dog']\n"
     ]
    }
   ],
   "source": [
    "#append()\n",
    "a = []\n",
    "a.append(\"Apple\")\n",
    "a.append(\"Ball\")\n",
    "a.append(\"Cat\")\n",
    "a.append(\"Dog\")\n",
    "print(a)"
   ]
  },
  {
   "cell_type": "code",
   "execution_count": 21,
   "id": "810b50bf-bb93-493f-8498-0e06c1aed220",
   "metadata": {},
   "outputs": [
    {
     "name": "stdin",
     "output_type": "stream",
     "text": [
      "Enter n =  2\n",
      "Enter x =  Apple\n",
      "Enter x =  Ball\n"
     ]
    },
    {
     "name": "stdout",
     "output_type": "stream",
     "text": [
      "['Apple', 'Ball']\n"
     ]
    }
   ],
   "source": [
    "a = []\n",
    "n = int(input(\"Enter n = \"))\n",
    "for i in range(n):\n",
    "    x = input(\"Enter x = \")\n",
    "    a.append(x)\n",
    "\n",
    "print(a)"
   ]
  },
  {
   "cell_type": "code",
   "execution_count": 23,
   "id": "4af71bbd-dd63-4b31-b1f0-4f4725735468",
   "metadata": {},
   "outputs": [
    {
     "name": "stdout",
     "output_type": "stream",
     "text": [
      "[1, 2, 3, 4, 5, 6, 7, 8, 9, 'Apple', 'Ball', 'Cat', 'Dog']\n"
     ]
    }
   ],
   "source": [
    "#extend\n",
    "a = [1,2,3,4,5,6,7,8,9]\n",
    "b = [\"Apple\",\"Ball\",\"Cat\",\"Dog\"]\n",
    "a.extend(b)\n",
    "print(a)"
   ]
  },
  {
   "cell_type": "code",
   "execution_count": 26,
   "id": "125f3e32-371e-4c52-b97d-7765401861ee",
   "metadata": {},
   "outputs": [
    {
     "data": {
      "text/plain": [
       "['Fish', 'Apple', 'Ball', 'Cat', 'Dog']"
      ]
     },
     "execution_count": 26,
     "metadata": {},
     "output_type": "execute_result"
    }
   ],
   "source": [
    "# insert()\n",
    "b = [\"Apple\",\"Ball\",\"Cat\",\"Dog\"]\n",
    "b.insert(0,\"Fish\")\n",
    "b"
   ]
  },
  {
   "cell_type": "code",
   "execution_count": 27,
   "id": "a22a9f85-e104-4db8-87c8-240f2ef0acc7",
   "metadata": {},
   "outputs": [
    {
     "name": "stdout",
     "output_type": "stream",
     "text": [
      "Apple\n",
      "Ball\n",
      "Cat\n",
      "Dog\n"
     ]
    }
   ],
   "source": [
    "# Read\n",
    "#for loop in list\n",
    "b = [\"Apple\",\"Ball\",\"Cat\",\"Dog\"]\n",
    "for i in b:\n",
    "    print(i)"
   ]
  },
  {
   "cell_type": "code",
   "execution_count": 28,
   "id": "ebbb8d31-ed49-49f8-b4e9-555ae2d22ff6",
   "metadata": {},
   "outputs": [
    {
     "name": "stdin",
     "output_type": "stream",
     "text": [
      "Enter x =  Apple\n"
     ]
    },
    {
     "name": "stdout",
     "output_type": "stream",
     "text": [
      "Yes\n"
     ]
    }
   ],
   "source": [
    "b = [\"Apple\",\"Ball\",\"Cat\",\"Dog\"]\n",
    "x = input(\"Enter x = \")\n",
    "if x in b:\n",
    "    print(\"Yes\")\n",
    "else:\n",
    "    print(\"No\")"
   ]
  },
  {
   "cell_type": "code",
   "execution_count": 30,
   "id": "39800505-833f-49eb-9793-940c5c79aebe",
   "metadata": {},
   "outputs": [
    {
     "name": "stdout",
     "output_type": "stream",
     "text": [
      "['apple', 'Ball', 'Cat', 'Dog']\n"
     ]
    }
   ],
   "source": [
    "# Update\n",
    "b = [\"Apple\",\"Ball\",\"Cat\",\"Dog\"]\n",
    "b[0] = \"apple\"\n",
    "print(b)"
   ]
  },
  {
   "cell_type": "code",
   "execution_count": 31,
   "id": "b406e579-33b5-4769-b709-0e6cd293db21",
   "metadata": {},
   "outputs": [
    {
     "name": "stdout",
     "output_type": "stream",
     "text": [
      "['apple', 'ball', 'Cat', 'Dog']\n"
     ]
    }
   ],
   "source": [
    "b = [\"Apple\",\"Ball\",\"Cat\",\"Dog\"]\n",
    "b[0:2] = [\"apple\",\"ball\"]\n",
    "print(b)"
   ]
  },
  {
   "cell_type": "code",
   "execution_count": null,
   "id": "58429af1-6c0e-4a16-8e4f-1fd45170bf62",
   "metadata": {},
   "outputs": [],
   "source": []
  },
  {
   "cell_type": "code",
   "execution_count": 32,
   "id": "fc21b787-8dcb-4d7e-8a15-a775bd7a6a87",
   "metadata": {},
   "outputs": [],
   "source": [
    "# delete\n",
    "# del remove() pop()"
   ]
  },
  {
   "cell_type": "code",
   "execution_count": 33,
   "id": "f7adc555-1a10-4889-8b98-09f09e289527",
   "metadata": {},
   "outputs": [
    {
     "name": "stdout",
     "output_type": "stream",
     "text": [
      "['Apple', 'Ball', 'Cat']\n"
     ]
    }
   ],
   "source": [
    "b = [\"Apple\",\"Ball\",\"Cat\",\"Dog\"]\n",
    "del b[-1]\n",
    "print(b)"
   ]
  },
  {
   "cell_type": "code",
   "execution_count": 34,
   "id": "1050bf1b-5331-4f3b-951d-1027376503d0",
   "metadata": {},
   "outputs": [
    {
     "name": "stdout",
     "output_type": "stream",
     "text": [
      "['Dog']\n"
     ]
    }
   ],
   "source": [
    "b = [\"Apple\",\"Ball\",\"Cat\",\"Dog\"]\n",
    "del b[0:3]\n",
    "print(b)"
   ]
  },
  {
   "cell_type": "code",
   "execution_count": 35,
   "id": "a399c775-90a1-4e45-8de2-dc4d6e3e1e8b",
   "metadata": {},
   "outputs": [
    {
     "name": "stdout",
     "output_type": "stream",
     "text": [
      "['Ball', 'Cat', 'Dog']\n"
     ]
    }
   ],
   "source": [
    "# remove()\n",
    "b = [\"Apple\",\"Ball\",\"Cat\",\"Dog\"]\n",
    "b.remove(\"Apple\")\n",
    "print(b)"
   ]
  },
  {
   "cell_type": "code",
   "execution_count": 41,
   "id": "6706ba2b-7350-4113-9569-21d7f04d837b",
   "metadata": {},
   "outputs": [
    {
     "name": "stdout",
     "output_type": "stream",
     "text": [
      "['Ball', 'Cat', 'Dog']\n"
     ]
    }
   ],
   "source": [
    "b = [\"Apple\",\"Ball\",\"Cat\",\"Dog\",\"Apple\"]\n",
    "c = b.count(\"Apple\")\n",
    "for i in range(c):\n",
    "    b.remove(\"Apple\")\n",
    "print(b)"
   ]
  },
  {
   "cell_type": "code",
   "execution_count": 2,
   "id": "02d76045-ef05-4262-a274-cc9cad845841",
   "metadata": {},
   "outputs": [
    {
     "name": "stdout",
     "output_type": "stream",
     "text": [
      "['Cat', 'Dog']\n"
     ]
    }
   ],
   "source": [
    "a = []\n",
    "b = [\"Apple\",\"Ball\",\"Cat\",\"Dog\",\"Apple\", \"Ball\"]\n",
    "for i in b:\n",
    "    if (\"Apple\" == i) or (\"Ball\" == i):\n",
    "        continue\n",
    "    a.append(i)\n",
    "    \n",
    "print(a)"
   ]
  },
  {
   "cell_type": "code",
   "execution_count": 4,
   "id": "771b6f1b-626f-467b-983a-68cba08ed226",
   "metadata": {},
   "outputs": [
    {
     "name": "stdout",
     "output_type": "stream",
     "text": [
      "['Ball', 'Cat', 'Dog', 'Apple']\n",
      "Apple\n"
     ]
    }
   ],
   "source": [
    "# pop\n",
    "b = [\"Apple\",\"Ball\",\"Cat\",\"Dog\",\"Apple\"]\n",
    "c = b.pop(0)\n",
    "print(b)\n",
    "print(c)"
   ]
  },
  {
   "cell_type": "code",
   "execution_count": 10,
   "id": "ad6f29e7-11b9-4e9a-8f87-e6687f7c2aa8",
   "metadata": {},
   "outputs": [
    {
     "name": "stdin",
     "output_type": "stream",
     "text": [
      "Enter x =  Apple\n"
     ]
    },
    {
     "name": "stdout",
     "output_type": "stream",
     "text": [
      "Yes\n"
     ]
    }
   ],
   "source": [
    "b = [\"Apple\",\"Ball\",\"Cat\",\"Dog\",]\n",
    "x = input(\"Enter x = \")\n",
    "for i in b:\n",
    "    if i.lower() == x.lower():\n",
    "        print(\"Yes\")"
   ]
  },
  {
   "cell_type": "code",
   "execution_count": 13,
   "id": "34293b65-1c28-4422-a62a-42169ecea8e1",
   "metadata": {},
   "outputs": [
    {
     "name": "stdin",
     "output_type": "stream",
     "text": [
      "Enter x =  AppLe\n"
     ]
    },
    {
     "name": "stdout",
     "output_type": "stream",
     "text": [
      "Yes\n",
      "2\n"
     ]
    }
   ],
   "source": [
    "b = [\"Apple\",\"Ball\",\"Cat\",\"Dog\",\"Apple\"]\n",
    "x = input(\"Enter x = \")\n",
    "c = 0\n",
    "for i in b:\n",
    "    if i.lower() == x.lower():\n",
    "        c = c+1\n",
    "if c >0:\n",
    "    print(\"Yes\")\n",
    "    \n",
    "print(c)"
   ]
  },
  {
   "cell_type": "code",
   "execution_count": null,
   "id": "20b1ddf1-426f-43d3-b606-1a26a6a4c9c9",
   "metadata": {},
   "outputs": [],
   "source": [
    "# WAP to find index of duplicate value"
   ]
  }
 ],
 "metadata": {
  "kernelspec": {
   "display_name": "Python 3 (ipykernel)",
   "language": "python",
   "name": "python3"
  },
  "language_info": {
   "codemirror_mode": {
    "name": "ipython",
    "version": 3
   },
   "file_extension": ".py",
   "mimetype": "text/x-python",
   "name": "python",
   "nbconvert_exporter": "python",
   "pygments_lexer": "ipython3",
   "version": "3.11.7"
  }
 },
 "nbformat": 4,
 "nbformat_minor": 5
}
