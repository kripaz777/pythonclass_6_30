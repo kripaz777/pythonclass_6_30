{
 "cells": [
  {
   "cell_type": "code",
   "execution_count": 1,
   "id": "3a3644f8-e3c0-4f36-b7b0-3d06cef9aeca",
   "metadata": {},
   "outputs": [
    {
     "name": "stdin",
     "output_type": "stream",
     "text": [
      "Enter age =  ten\n"
     ]
    },
    {
     "name": "stdout",
     "output_type": "stream",
     "text": [
      "Error\n"
     ]
    }
   ],
   "source": [
    "try:\n",
    "    age = int(input(\"Enter age = \"))\n",
    "except:\n",
    "    print(\"Error\")"
   ]
  },
  {
   "cell_type": "code",
   "execution_count": 6,
   "id": "620fd788-a723-43df-9824-03d800957087",
   "metadata": {
    "scrolled": true
   },
   "outputs": [],
   "source": [
    "# age = int(input(\"Enter age = \"))\n"
   ]
  },
  {
   "cell_type": "code",
   "execution_count": 3,
   "id": "4d274a4e-7aa6-4f77-9fa8-21da97422244",
   "metadata": {},
   "outputs": [
    {
     "name": "stdin",
     "output_type": "stream",
     "text": [
      "Enter age =  hkjkj\n"
     ]
    },
    {
     "name": "stdout",
     "output_type": "stream",
     "text": [
      "Error\n"
     ]
    }
   ],
   "source": [
    "try:\n",
    "    age = int(input(\"Enter age = \"))\n",
    "except ValueError:\n",
    "    print(\"Error\")"
   ]
  },
  {
   "cell_type": "code",
   "execution_count": 5,
   "id": "b47bfc2b-014d-41c5-948c-58fd95212d9a",
   "metadata": {},
   "outputs": [],
   "source": [
    "# 10/0"
   ]
  },
  {
   "cell_type": "code",
   "execution_count": 8,
   "id": "be26cb43-68b1-45ec-8d39-323c5ecb3625",
   "metadata": {},
   "outputs": [
    {
     "name": "stdin",
     "output_type": "stream",
     "text": [
      "Enter a =  10\n",
      "Enter b =  0\n"
     ]
    },
    {
     "name": "stdout",
     "output_type": "stream",
     "text": [
      "The value of b can not be zero.\n"
     ]
    }
   ],
   "source": [
    "try:\n",
    "    a = int(input(\"Enter a = \"))\n",
    "    b = int(input(\"Enter b = \"))\n",
    "    c = a/b\n",
    "    print(c)\n",
    "except ValueError:\n",
    "    print(\"Enter int value \")\n",
    "except ZeroDivisionError:\n",
    "    print(\"The value of b can not be zero.\")"
   ]
  },
  {
   "cell_type": "code",
   "execution_count": null,
   "id": "f080d35f-479b-4218-b12a-6d771bf332a4",
   "metadata": {},
   "outputs": [],
   "source": [
    "try:\n",
    "    a = int(input(\"Enter a = \"))\n",
    "    b = int(input(\"Enter b = \"))\n",
    "    c = a/b\n",
    "except ValueError:\n",
    "    print(\"Enter int value \")\n",
    "except ZeroDivisionError:\n",
    "    print(\"The value of b can not be zero.\")\n",
    "else:\n",
    "    print(c)"
   ]
  },
  {
   "cell_type": "code",
   "execution_count": 10,
   "id": "29187c3b-3326-43b3-b413-1044e6412e75",
   "metadata": {},
   "outputs": [
    {
     "name": "stdout",
     "output_type": "stream",
     "text": [
      "The file is not there.\n"
     ]
    }
   ],
   "source": [
    "try:\n",
    "    file = open('datas.csv','r')\n",
    "    file.close()\n",
    "except:\n",
    "    print(\"The file is not there.\")\n"
   ]
  },
  {
   "cell_type": "code",
   "execution_count": 12,
   "id": "90fc13ab-f79b-4e96-8ce3-5c57f213baf8",
   "metadata": {},
   "outputs": [
    {
     "name": "stdin",
     "output_type": "stream",
     "text": [
      "Enter age =  18\n"
     ]
    }
   ],
   "source": [
    "# assert error\n",
    "try:\n",
    "    age = int(input(\"Enter age = \"))\n",
    "    assert age >=18\n",
    "except:\n",
    "    print(\"Error\")"
   ]
  },
  {
   "cell_type": "code",
   "execution_count": null,
   "id": "72781371-86b4-4090-ba1f-c508d8b28674",
   "metadata": {},
   "outputs": [],
   "source": []
  }
 ],
 "metadata": {
  "kernelspec": {
   "display_name": "Python 3 (ipykernel)",
   "language": "python",
   "name": "python3"
  },
  "language_info": {
   "codemirror_mode": {
    "name": "ipython",
    "version": 3
   },
   "file_extension": ".py",
   "mimetype": "text/x-python",
   "name": "python",
   "nbconvert_exporter": "python",
   "pygments_lexer": "ipython3",
   "version": "3.11.7"
  }
 },
 "nbformat": 4,
 "nbformat_minor": 5
}
